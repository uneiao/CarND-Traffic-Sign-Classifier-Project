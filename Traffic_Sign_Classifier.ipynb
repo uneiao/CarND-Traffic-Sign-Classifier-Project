{
 "cells": [
  {
   "cell_type": "markdown",
   "metadata": {
    "deletable": true,
    "editable": true
   },
   "source": [
    "# Self-Driving Car Engineer Nanodegree\n",
    "\n",
    "## Deep Learning\n",
    "\n",
    "## Project: Build a Traffic Sign Recognition Classifier\n",
    "\n",
    "In this notebook, a template is provided for you to implement your functionality in stages, which is required to successfully complete this project. If additional code is required that cannot be included in the notebook, be sure that the Python code is successfully imported and included in your submission if necessary. \n",
    "\n",
    "> **Note**: Once you have completed all of the code implementations, you need to finalize your work by exporting the iPython Notebook as an HTML document. Before exporting the notebook to html, all of the code cells need to have been run so that reviewers can see the final implementation and output. You can then export the notebook by using the menu above and navigating to  \\n\",\n",
    "    \"**File -> Download as -> HTML (.html)**. Include the finished document along with this notebook as your submission. \n",
    "\n",
    "In addition to implementing code, there is a writeup to complete. The writeup should be completed in a separate file, which can be either a markdown file or a pdf document. There is a [write up template](https://github.com/udacity/CarND-Traffic-Sign-Classifier-Project/blob/master/writeup_template.md) that can be used to guide the writing process. Completing the code template and writeup template will cover all of the [rubric points](https://review.udacity.com/#!/rubrics/481/view) for this project.\n",
    "\n",
    "The [rubric](https://review.udacity.com/#!/rubrics/481/view) contains \"Stand Out Suggestions\" for enhancing the project beyond the minimum requirements. The stand out suggestions are optional. If you decide to pursue the \"stand out suggestions\", you can include the code in this Ipython notebook and also discuss the results in the writeup file.\n",
    "\n",
    "\n",
    ">**Note:** Code and Markdown cells can be executed using the **Shift + Enter** keyboard shortcut. In addition, Markdown cells can be edited by typically double-clicking the cell to enter edit mode."
   ]
  },
  {
   "cell_type": "markdown",
   "metadata": {
    "deletable": true,
    "editable": true
   },
   "source": [
    "---\n",
    "## Step 0: Load The Data"
   ]
  },
  {
   "cell_type": "code",
   "execution_count": 1,
   "metadata": {
    "collapsed": false,
    "deletable": true,
    "editable": true
   },
   "outputs": [],
   "source": [
    "# Load pickled data\n",
    "import pickle\n",
    "\n",
    "# TODO: Fill this in based on where you saved the training and testing data\n",
    "\n",
    "training_file = \"traffic-signs-data/train.p\"\n",
    "validation_file= \"traffic-signs-data/valid.p\"\n",
    "testing_file = \"traffic-signs-data/test.p\"\n",
    "\n",
    "with open(training_file, mode='rb') as f:\n",
    "    train = pickle.load(f)\n",
    "with open(validation_file, mode='rb') as f:\n",
    "    valid = pickle.load(f)\n",
    "with open(testing_file, mode='rb') as f:\n",
    "    test = pickle.load(f)\n",
    "    \n",
    "X_train, y_train = train['features'], train['labels']\n",
    "X_valid, y_valid = valid['features'], valid['labels']\n",
    "X_test, y_test = test['features'], test['labels']"
   ]
  },
  {
   "cell_type": "markdown",
   "metadata": {
    "deletable": true,
    "editable": true
   },
   "source": [
    "---\n",
    "\n",
    "## Step 1: Dataset Summary & Exploration\n",
    "\n",
    "The pickled data is a dictionary with 4 key/value pairs:\n",
    "\n",
    "- `'features'` is a 4D array containing raw pixel data of the traffic sign images, (num examples, width, height, channels).\n",
    "- `'labels'` is a 1D array containing the label/class id of the traffic sign. The file `signnames.csv` contains id -> name mappings for each id.\n",
    "- `'sizes'` is a list containing tuples, (width, height) representing the the original width and height the image.\n",
    "- `'coords'` is a list containing tuples, (x1, y1, x2, y2) representing coordinates of a bounding box around the sign in the image. **THESE COORDINATES ASSUME THE ORIGINAL IMAGE. THE PICKLED DATA CONTAINS RESIZED VERSIONS (32 by 32) OF THESE IMAGES**\n",
    "\n",
    "Complete the basic data summary below. Use python, numpy and/or pandas methods to calculate the data summary rather than hard coding the results. For example, the [pandas shape method](http://pandas.pydata.org/pandas-docs/stable/generated/pandas.DataFrame.shape.html) might be useful for calculating some of the summary results. "
   ]
  },
  {
   "cell_type": "markdown",
   "metadata": {
    "deletable": true,
    "editable": true
   },
   "source": [
    "### Provide a Basic Summary of the Data Set Using Python, Numpy and/or Pandas"
   ]
  },
  {
   "cell_type": "code",
   "execution_count": 2,
   "metadata": {
    "collapsed": false,
    "deletable": true,
    "editable": true
   },
   "outputs": [
    {
     "name": "stdout",
     "output_type": "stream",
     "text": [
      "Number of training examples = 34799\n",
      "Number of testing examples = 12630\n",
      "Image data shape = (32, 32, 3)\n",
      "Number of classes = 43\n"
     ]
    }
   ],
   "source": [
    "### Replace each question mark with the appropriate value. \n",
    "### Use python, pandas or numpy methods rather than hard coding the results\n",
    "\n",
    "# TODO: Number of training examples\n",
    "n_train = len(X_train)\n",
    "\n",
    "# TODO: Number of testing examples.\n",
    "n_test = len(X_test)\n",
    "\n",
    "# TODO: What's the shape of an traffic sign image?\n",
    "image_shape = X_train[0].shape\n",
    "\n",
    "# TODO: How many unique classes/labels there are in the dataset.\n",
    "n_classes = len(set(y_test))\n",
    "\n",
    "print(\"Number of training examples =\", n_train)\n",
    "print(\"Number of testing examples =\", n_test)\n",
    "print(\"Image data shape =\", image_shape)\n",
    "print(\"Number of classes =\", n_classes)"
   ]
  },
  {
   "cell_type": "markdown",
   "metadata": {
    "deletable": true,
    "editable": true
   },
   "source": [
    "### Include an exploratory visualization of the dataset"
   ]
  },
  {
   "cell_type": "markdown",
   "metadata": {
    "deletable": true,
    "editable": true
   },
   "source": [
    "Visualize the German Traffic Signs Dataset using the pickled file(s). This is open ended, suggestions include: plotting traffic sign images, plotting the count of each sign, etc.\n",
    "\n",
    "The [Matplotlib](http://matplotlib.org/) [examples](http://matplotlib.org/examples/index.html) and [gallery](http://matplotlib.org/gallery.html) pages are a great resource for doing visualizations in Python.\n",
    "\n",
    "**NOTE:** It's recommended you start with something simple first. If you wish to do more, come back to it after you've completed the rest of the sections."
   ]
  },
  {
   "cell_type": "code",
   "execution_count": 72,
   "metadata": {
    "collapsed": false,
    "deletable": true,
    "editable": true,
    "scrolled": true
   },
   "outputs": [
    {
     "data": {
      "image/png": "[encoded data removed]",
      "text/plain": [
       "<matplotlib.figure.Figure at 0x11b7efdd8>"
      ]
     },
     "metadata": {},
     "output_type": "display_data"
    }
   ],
   "source": [
    "### Data exploration visualization code goes here.\n",
    "### Feel free to use as many code cells as needed.\n",
    "import matplotlib.pyplot as plt\n",
    "# Visualizations will be shown in the notebook.\n",
    "%matplotlib inline\n",
    "\n"
   ]
  },
  {
   "cell_type": "markdown",
   "metadata": {
    "deletable": true,
    "editable": true
   },
   "source": [
    "----\n",
    "\n",
    "## Step 2: Design and Test a Model Architecture\n",
    "\n",
    "Design and implement a deep learning model that learns to recognize traffic signs. Train and test your model on the [German Traffic Sign Dataset](http://benchmark.ini.rub.de/?section=gtsrb&subsection=dataset).\n",
    "\n",
    "There are various aspects to consider when thinking about this problem:\n",
    "\n",
    "- Neural network architecture\n",
    "- Play around preprocessing techniques (normalization, rgb to grayscale, etc)\n",
    "- Number of examples per label (some have more than others).\n",
    "- Generate fake data.\n",
    "\n",
    "Here is an example of a [published baseline model on this problem](http://yann.lecun.com/exdb/publis/pdf/sermanet-ijcnn-11.pdf). It's not required to be familiar with the approach used in the paper but, it's good practice to try to read papers like these.\n",
    "\n",
    "**NOTE:** The LeNet-5 implementation shown in the [classroom](https://classroom.udacity.com/nanodegrees/nd013/parts/fbf77062-5703-404e-b60c-95b78b2f3f9e/modules/6df7ae49-c61c-4bb2-a23e-6527e69209ec/lessons/601ae704-1035-4287-8b11-e2c2716217ad/concepts/d4aca031-508f-4e0b-b493-e7b706120f81) at the end of the CNN lesson is a solid starting point. You'll have to change the number of classes and possibly the preprocessing, but aside from that it's plug and play!"
   ]
  },
  {
   "cell_type": "markdown",
   "metadata": {
    "deletable": true,
    "editable": true
   },
   "source": [
    "### Pre-process the Data Set (normalization, grayscale, etc.)"
   ]
  },
  {
   "cell_type": "markdown",
   "metadata": {
    "deletable": true,
    "editable": true
   },
   "source": [
    "Use the code cell (or multiple code cells, if necessary) to implement the first step of your project."
   ]
  },
  {
   "cell_type": "code",
   "execution_count": 4,
   "metadata": {
    "collapsed": false,
    "deletable": true,
    "editable": true
   },
   "outputs": [],
   "source": [
    "### Preprocess the data here. Preprocessing steps could include normalization, converting to grayscale, etc.\n",
    "### Feel free to use as many code cells as needed.\n",
    "import tensorflow as tf\n",
    "import numpy as np\n",
    "\n",
    "def normalize(x):\n",
    "    x = x.astype('float32')\n",
    "    x /= 255.0\n",
    "    return x\n",
    "\n",
    "X_train = normalize(X_train)\n",
    "X_test = normalize(X_test)\n",
    "X_valid = normalize(X_valid)"
   ]
  },
  {
   "cell_type": "markdown",
   "metadata": {
    "deletable": true,
    "editable": true
   },
   "source": [
    "### Model Architecture"
   ]
  },
  {
   "cell_type": "code",
   "execution_count": 5,
   "metadata": {
    "collapsed": true,
    "deletable": true,
    "editable": true
   },
   "outputs": [],
   "source": [
    "### Define your architecture here.\n",
    "### Feel free to use as many code cells as needed.\n",
    "_, _, C = X_train[0].shape \n",
    "x = tf.placeholder(tf.float32, (None, 32, 32, C), name=\"x\")\n",
    "y = tf.placeholder(tf.int32, (None), name=\"y\")\n",
    "one_hot_y = tf.one_hot(y, n_classes)"
   ]
  },
  {
   "cell_type": "code",
   "execution_count": 6,
   "metadata": {
    "collapsed": true,
    "deletable": true,
    "editable": true
   },
   "outputs": [],
   "source": [
    "from tensorflow.contrib.layers import flatten\n",
    "\n",
    "\n",
    "def conv(x, input_shape, output_shape, stride, padding=\"VALID\"):\n",
    "    input_height = input_shape[0]\n",
    "    input_width = input_shape[1]\n",
    "    input_depth = input_shape[2]\n",
    "    output_height = output_shape[0]\n",
    "    output_width = output_shape[1]\n",
    "    output_depth = output_shape[2]\n",
    "    stride_height = stride[1]\n",
    "    stride_width = stride[2]\n",
    "    weight_height = input_height - (output_height - 1) * stride_height\n",
    "    weight_width = input_width - (output_width - 1) * stride_width\n",
    "\n",
    "    weights = tf.Variable(tf.truncated_normal(\n",
    "        [weight_height, weight_width, input_depth, output_depth],\n",
    "        mean=0, stddev=0.1))\n",
    "    bias = tf.Variable(tf.zeros(output_depth))\n",
    "    x = tf.nn.conv2d(x, weights,  stride, padding) + bias\n",
    "    return x\n",
    "\n",
    "\n",
    "def max_pooling(x, input_shape, output_shape):\n",
    "    ih = input_shape[0]\n",
    "    iw = input_shape[1]\n",
    "    id = input_shape[2]\n",
    "    oh = output_shape[0]\n",
    "    ow = output_shape[1]\n",
    "    od = output_shape[2]\n",
    "    filter_height = np.floor(ih / oh)\n",
    "    filter_width = np.floor(iw / ow)\n",
    "    return tf.nn.max_pool(x, [1,filter_height, filter_width, 1], [1,filter_height, filter_width, 1], \"SAME\")\n",
    "\n",
    "\n",
    "def fully_connected(x, input_num, output_num):\n",
    "    weights = tf.Variable(tf.truncated_normal(\n",
    "        [input_num, output_num],\n",
    "        mean=0, stddev=0.1))\n",
    "    bias = tf.Variable(tf.zeros(output_num))\n",
    "    return tf.add(tf.matmul(x, weights), bias)"
   ]
  },
  {
   "cell_type": "code",
   "execution_count": 7,
   "metadata": {
    "collapsed": true
   },
   "outputs": [],
   "source": [
    "def LeNet(x):\n",
    "\n",
    "    x = conv(x, [32, 32, 3], [28, 28, 18], [1, 1, 1, 1])\n",
    "    x = tf.nn.relu(x)\n",
    "    x = max_pooling(x, [28, 28, 18], [14, 14, 18])\n",
    "    \n",
    "    x = conv(x, [14, 14, 18], [10, 10, 24], [1, 1, 1, 1])\n",
    "    x = tf.nn.relu(x)\n",
    "    x = max_pooling(x, [10, 10, 24], [5, 5, 24])\n",
    "\n",
    "    x = flatten(x)\n",
    "\n",
    "    x = fully_connected(x, 600, 200)\n",
    "    x = tf.nn.relu(x)\n",
    "\n",
    "    x = fully_connected(x, 200, 100)\n",
    "    x = tf.nn.relu(x)\n",
    "\n",
    "    logits = fully_connected(x, 100, n_classes)\n",
    "    return logits"
   ]
  },
  {
   "cell_type": "code",
   "execution_count": 8,
   "metadata": {
    "collapsed": false
   },
   "outputs": [],
   "source": [
    "# Loss & Optimizer\n",
    "rate = 0.005\n",
    "\n",
    "logits = LeNet(x)\n",
    "loss_operation = tf.reduce_mean(\n",
    "    tf.nn.softmax_cross_entropy_with_logits(logits=logits, labels=one_hot_y))\n",
    "optimizer = tf.train.AdamOptimizer(learning_rate=rate)\n",
    "training_operation = optimizer.minimize(loss_operation)"
   ]
  },
  {
   "cell_type": "code",
   "execution_count": 9,
   "metadata": {
    "collapsed": true
   },
   "outputs": [],
   "source": [
    "# Accuracy\n",
    "correct_pred = tf.equal(tf.argmax(logits, 1), tf.argmax(one_hot_y, 1))\n",
    "accuracy = tf.reduce_mean(tf.cast(correct_pred, tf.float32), name='accuracy')"
   ]
  },
  {
   "cell_type": "markdown",
   "metadata": {
    "deletable": true,
    "editable": true
   },
   "source": [
    "### Train, Validate and Test the Model"
   ]
  },
  {
   "cell_type": "markdown",
   "metadata": {
    "deletable": true,
    "editable": true
   },
   "source": [
    "A validation set can be used to assess how well the model is performing. A low accuracy on the training and validation\n",
    "sets imply underfitting. A high accuracy on the training set but low accuracy on the validation set implies overfitting."
   ]
  },
  {
   "cell_type": "code",
   "execution_count": 10,
   "metadata": {
    "collapsed": false,
    "deletable": true,
    "editable": true,
    "scrolled": true
   },
   "outputs": [
    {
     "name": "stdout",
     "output_type": "stream",
     "text": [
      "Epoch #1:   Loss: 0.189828   ValidAcc: 0.863719\n",
      "Epoch #2:   Loss: 0.0660848   ValidAcc: 0.906349\n",
      "Epoch #3:   Loss: 0.0302409   ValidAcc: 0.917007\n",
      "Epoch #4:   Loss: 0.129257   ValidAcc: 0.90839\n",
      "Epoch #5:   Loss: 0.0417239   ValidAcc: 0.921542\n",
      "Epoch #6:   Loss: 0.0180498   ValidAcc: 0.904989\n",
      "Epoch #7:   Loss: 0.0450597   ValidAcc: 0.925397\n",
      "Epoch #8:   Loss: 0.0210577   ValidAcc: 0.938549\n",
      "Epoch #9:   Loss: 0.012344   ValidAcc: 0.938095\n",
      "Epoch #10:   Loss: 0.0439023   ValidAcc: 0.928345\n",
      "Epoch #11:   Loss: 0.00788952   ValidAcc: 0.940136\n",
      "Epoch #12:   Loss: 0.00569415   ValidAcc: 0.911565\n",
      "Epoch #13:   Loss: 0.0341403   ValidAcc: 0.926984\n",
      "Epoch #14:   Loss: 0.0142607   ValidAcc: 0.934921\n",
      "Epoch #15:   Loss: 0.0245551   ValidAcc: 0.897506\n",
      "Epoch #16:   Loss: 0.00363099   ValidAcc: 0.947619\n",
      "Epoch #17:   Loss: 0.000294455   ValidAcc: 0.94059\n",
      "Epoch #18:   Loss: 0.018635   ValidAcc: 0.908617\n",
      "Epoch #19:   Loss: 0.00230264   ValidAcc: 0.919501\n",
      "Epoch #20:   Loss: 0.24421   ValidAcc: 0.916553\n",
      "Epoch #21:   Loss: 0.0139282   ValidAcc: 0.93288\n",
      "Epoch #22:   Loss: 0.00344896   ValidAcc: 0.923356\n",
      "Epoch #23:   Loss: 0.00646074   ValidAcc: 0.925624\n",
      "Epoch #24:   Loss: 0.00717212   ValidAcc: 0.922902\n",
      "Epoch #25:   Loss: 0.000113654   ValidAcc: 0.929025\n",
      "Epoch #26:   Loss: 0.0085613   ValidAcc: 0.920408\n",
      "Epoch #27:   Loss: 0.099895   ValidAcc: 0.926757\n",
      "Epoch #28:   Loss: 4.12369e-05   ValidAcc: 0.921769\n",
      "Epoch #29:   Loss: 0.0218892   ValidAcc: 0.923356\n",
      "Epoch #30:   Loss: 0.001176   ValidAcc: 0.926984\n",
      "Epoch #31:   Loss: 0.364142   ValidAcc: 0.934694\n",
      "Epoch #32:   Loss: 0.00846567   ValidAcc: 0.934694\n",
      "Epoch #33:   Loss: 0.00606324   ValidAcc: 0.92449\n",
      "Epoch #34:   Loss: 0.0167143   ValidAcc: 0.936281\n",
      "Epoch #35:   Loss: 0.0499828   ValidAcc: 0.921542\n",
      "Epoch #36:   Loss: 0.0385374   ValidAcc: 0.927438\n",
      "Epoch #37:   Loss: 0.00124577   ValidAcc: 0.937415\n",
      "Epoch #38:   Loss: 0.00698926   ValidAcc: 0.9322\n",
      "Epoch #39:   Loss: 0.0285059   ValidAcc: 0.939002\n",
      "Epoch #40:   Loss: 0.00285666   ValidAcc: 0.923129\n",
      "Epoch #41:   Loss: 0.00183277   ValidAcc: 0.939456\n",
      "Epoch #42:   Loss: 9.37369e-05   ValidAcc: 0.944444\n",
      "Epoch #43:   Loss: 0.01521   ValidAcc: 0.935374\n",
      "Epoch #44:   Loss: 0.00294029   ValidAcc: 0.914286\n",
      "Epoch #45:   Loss: 0.00250923   ValidAcc: 0.926304\n",
      "Epoch #46:   Loss: 0.0018854   ValidAcc: 0.916327\n",
      "Epoch #47:   Loss: 0.00110438   ValidAcc: 0.933787\n",
      "Epoch #48:   Loss: 0.0294233   ValidAcc: 0.926077\n",
      "Epoch #49:   Loss: 0.00290295   ValidAcc: 0.927438\n",
      "Epoch #50:   Loss: 2.99973e-05   ValidAcc: 0.933107\n",
      "Model saved\n"
     ]
    }
   ],
   "source": [
    "### Train your model here.\n",
    "### Calculate and report the accuracy on the training and validation set.\n",
    "### Once a final model architecture is selected, \n",
    "### the accuracy on the test set should be calculated and reported as well.\n",
    "### Feel free to use as many code cells as needed.\n",
    "\n",
    "\n",
    "EPOCHS = 50\n",
    "BATCH_SIZE = 128\n",
    "from sklearn.utils import shuffle\n",
    "\n",
    "saver = tf.train.Saver()\n",
    "\n",
    "with tf.Session() as sess:\n",
    "    # Initializing the variables\n",
    "    sess.run(tf.global_variables_initializer())\n",
    "    \n",
    "    # Training cycle\n",
    "    for epoch in range(EPOCHS):\n",
    "        X_train, y_train = shuffle(X_train, y_train)\n",
    "        for start in range(0, n_train, BATCH_SIZE):\n",
    "            end = min(start + BATCH_SIZE, n_train)\n",
    "            training_x, training_y = X_train[start: end], y_train[start: end]\n",
    "            sess.run(training_operation, feed_dict={\n",
    "                x: training_x,\n",
    "                y: training_y,\n",
    "            })\n",
    "        loss = sess.run(loss_operation, feed_dict={\n",
    "            x: training_x,\n",
    "            y: training_y,\n",
    "        })\n",
    "        validation_accuracy = sess.run(accuracy, feed_dict={\n",
    "            x: X_valid,\n",
    "            y: y_valid,\n",
    "        })\n",
    "        print(\"Epoch #%s:   Loss: %s   ValidAcc: %s\" % (\n",
    "            epoch + 1, loss, validation_accuracy))\n",
    "        \n",
    "    saver.save(sess, './traffic_sign_net')\n",
    "    print(\"Model saved\")"
   ]
  },
  {
   "cell_type": "code",
   "execution_count": 11,
   "metadata": {
    "collapsed": false
   },
   "outputs": [
    {
     "name": "stdout",
     "output_type": "stream",
     "text": [
      "Test Accuracy: 0.930879\n"
     ]
    }
   ],
   "source": [
    "with tf.Session() as sess:\n",
    "    saver.restore(sess, './traffic_sign_net')\n",
    "    acc = sess.run(accuracy, feed_dict={\n",
    "        x: X_test,\n",
    "        y: y_test,\n",
    "    })\n",
    "    print(\"Test Accuracy: %s\" % (acc))"
   ]
  },
  {
   "cell_type": "markdown",
   "metadata": {
    "deletable": true,
    "editable": true
   },
   "source": [
    "---\n",
    "\n",
    "## Step 3: Test a Model on New Images\n",
    "\n",
    "To give yourself more insight into how your model is working, download at least five pictures of German traffic signs from the web and use your model to predict the traffic sign type.\n",
    "\n",
    "You may find `signnames.csv` useful as it contains mappings from the class id (integer) to the actual sign name."
   ]
  },
  {
   "cell_type": "markdown",
   "metadata": {
    "deletable": true,
    "editable": true
   },
   "source": [
    "### Load and Output the Images"
   ]
  },
  {
   "cell_type": "code",
   "execution_count": 130,
   "metadata": {
    "collapsed": false,
    "deletable": true,
    "editable": true,
    "scrolled": true
   },
   "outputs": [],
   "source": [
    "from urllib import request\n",
    "import cv2\n",
    "\n",
    "\n",
    "def read_image_from_url(url):\n",
    "    content = bytearray(request.urlopen(url).read())\n",
    "    image = np.asarray(content, dtype=\"uint8\")\n",
    "    image = cv2.imdecode(image, cv2.IMREAD_COLOR)\n",
    "    image = cv2.cvtColor(image, cv2.COLOR_BGR2RGB)\n",
    "    \n",
    "    image = cv2.resize(image, (32, 32), interpolation = cv2.INTER_NEAREST)\n",
    "    return image\n",
    "\n",
    "\n",
    "image_urls = [\n",
    "    \"http://bicyclegermany.com/Images/Laws/Stop%20sign.jpg\",\n",
    "    \"http://media.gettyimages.com/photos/german-traffic-signs-picture-id459381059\",\n",
    "    \"https://is.alicdn.com/img/pb/312/820/215/1215820312_482.jpg\",\n",
    "    \"http://media.gettyimages.com/photos/german-traffic-signs-picture-id459381063\",\n",
    "    \"https://cdn.pixabay.com/photo/2016/06/08/01/41/traffic-sign-1443060__480.jpg\",\n",
    "    \"http://bicyclegermany.com/Images/Laws/100_1607.jpg\",\n",
    "    \"https://francetaste.files.wordpress.com/2016/03/speed-reminder.jpg\",\n",
    "    \"https://thumb1.shutterstock.com/display_pic_with_logo/3869111/362901644/stock-photo-german-speed-limit-sign-km-h-against-blue-sky-362901644.jpg\",\n",
    "    \"http://media.gettyimages.com/photos/german-traffic-signs-picture-id459381091\",\n",
    "    \"http://media.gettyimages.com/photos/german-traffic-signs-picture-id459381023\",\n",
    "]\n",
    "\n",
    "images = []\n",
    "for url in image_urls:\n",
    "    image_data = read_image_from_url(url)\n",
    "    images.append(image_data)\n",
    "\n",
    "X_new_test = np.array(images)\n",
    "X_new_test = normalize(X_new_test)"
   ]
  },
  {
   "cell_type": "code",
   "execution_count": 85,
   "metadata": {
    "collapsed": false
   },
   "outputs": [],
   "source": [
    "import pandas as pd\n",
    "signnames = pd.read_csv(\"signnames.csv\")\n",
    "signnames.head()\n",
    "\n",
    "label_names = {}\n",
    "for key, name in signnames.get_values():\n",
    "    label_names[key] = name"
   ]
  },
  {
   "cell_type": "markdown",
   "metadata": {
    "deletable": true,
    "editable": true
   },
   "source": [
    "### Predict the Sign Type for Each Image"
   ]
  },
  {
   "cell_type": "code",
   "execution_count": 131,
   "metadata": {
    "collapsed": false,
    "deletable": true,
    "editable": true
   },
   "outputs": [
    {
     "data": {
      "image/png": "[encoded data removed]",
      "text/plain": [
       "<matplotlib.figure.Figure at 0x11c01de48>"
      ]
     },
     "metadata": {},
     "output_type": "display_data"
    }
   ],
   "source": [
    "### Run the predictions here and use the model to output the prediction for each image.\n",
    "### Make sure to pre-process the images with the same pre-processing pipeline used earlier.\n",
    "### Feel free to use as many code cells as needed.\n",
    "\n",
    "\n",
    "def plot_prediction_comparision(images, prediction, X_train, y_train, label_names):\n",
    "    \n",
    "    fig, axies = plt.subplots(nrows=len(images), ncols=2, figsize=(16, 16))\n",
    "    fig.tight_layout()\n",
    "    fig.suptitle('Softmax Predictions', fontsize=20, y=1.1)\n",
    "\n",
    "    for ith, (image, p) in enumerate(zip(images, prediction)):\n",
    "        pred_names = label_names[p]\n",
    "\n",
    "        axies[ith][0].imshow(image)\n",
    "        axies[ith][0].set_title(pred_names)\n",
    "        axies[ith][0].set_axis_off()\n",
    "\n",
    "        for i in range(len(X_train)):\n",
    "            if y_train[i] == p:\n",
    "                axies[ith][1].imshow(X_train[i])\n",
    "                axies[ith][1].set_axis_off()\n",
    "                break\n",
    "\n",
    "\n",
    "with tf.Session() as sess:\n",
    "    saver.restore(sess, './traffic_sign_net')\n",
    "    new_test_prediction = sess.run(tf.argmax(logits, 1), feed_dict={x: X_new_test})\n",
    "    plot_prediction_comparision(\n",
    "        X_new_test, new_test_prediction, X_train, y_train, label_names)"
   ]
  },
  {
   "cell_type": "markdown",
   "metadata": {
    "deletable": true,
    "editable": true
   },
   "source": [
    "### Analyze Performance"
   ]
  },
  {
   "cell_type": "code",
   "execution_count": 139,
   "metadata": {
    "collapsed": false,
    "deletable": true,
    "editable": true
   },
   "outputs": [
    {
     "name": "stdout",
     "output_type": "stream",
     "text": [
      "By comparing to training samples, the model got 7 out of 10 signs correct prediction, it's 70.0% accurate on these new images.\n"
     ]
    }
   ],
   "source": [
    "### Calculate the accuracy for these 5 new images. \n",
    "### For example, if the model predicted 1 out of 5 signs correctly, it's 20% accurate on these new images.\n",
    "\n",
    "def analysis(correct, total):\n",
    "    acc = float(correct) / total\n",
    "    print(\"By comparing to training samples, the model got %s out of %s signs correct prediction, \"\n",
    "          \"it's %s%% accurate on these new images.\" % (correct, total, acc * 100))\n",
    "\n",
    "analysis(7, 10)"
   ]
  },
  {
   "cell_type": "markdown",
   "metadata": {
    "deletable": true,
    "editable": true
   },
   "source": [
    "### Output Top 5 Softmax Probabilities For Each Image Found on the Web"
   ]
  },
  {
   "cell_type": "markdown",
   "metadata": {
    "deletable": true,
    "editable": true
   },
   "source": [
    "For each of the new images, print out the model's softmax probabilities to show the **certainty** of the model's predictions (limit the output to the top 5 probabilities for each image). [`tf.nn.top_k`](https://www.tensorflow.org/versions/r0.12/api_docs/python/nn.html#top_k) could prove helpful here. \n",
    "\n",
    "The example below demonstrates how tf.nn.top_k can be used to find the top k predictions for each image.\n",
    "\n",
    "`tf.nn.top_k` will return the values and indices (class ids) of the top k predictions. So if k=3, for each sign, it'll return the 3 largest probabilities (out of a possible 43) and the correspoding class ids.\n",
    "\n",
    "Take this numpy array as an example. The values in the array represent predictions. The array contains softmax probabilities for five candidate images with six possible classes. `tk.nn.top_k` is used to choose the three classes with the highest probability:\n",
    "\n",
    "```\n",
    "# (5, 6) array\n",
    "a = np.array([[ 0.24879643,  0.07032244,  0.12641572,  0.34763842,  0.07893497,\n",
    "         0.12789202],\n",
    "       [ 0.28086119,  0.27569815,  0.08594638,  0.0178669 ,  0.18063401,\n",
    "         0.15899337],\n",
    "       [ 0.26076848,  0.23664738,  0.08020603,  0.07001922,  0.1134371 ,\n",
    "         0.23892179],\n",
    "       [ 0.11943333,  0.29198961,  0.02605103,  0.26234032,  0.1351348 ,\n",
    "         0.16505091],\n",
    "       [ 0.09561176,  0.34396535,  0.0643941 ,  0.16240774,  0.24206137,\n",
    "         0.09155967]])\n",
    "```\n",
    "\n",
    "Running it through `sess.run(tf.nn.top_k(tf.constant(a), k=3))` produces:\n",
    "\n",
    "```\n",
    "TopKV2(values=array([[ 0.34763842,  0.24879643,  0.12789202],\n",
    "       [ 0.28086119,  0.27569815,  0.18063401],\n",
    "       [ 0.26076848,  0.23892179,  0.23664738],\n",
    "       [ 0.29198961,  0.26234032,  0.16505091],\n",
    "       [ 0.34396535,  0.24206137,  0.16240774]]), indices=array([[3, 0, 5],\n",
    "       [0, 1, 4],\n",
    "       [0, 5, 1],\n",
    "       [1, 3, 5],\n",
    "       [1, 4, 3]], dtype=int32))\n",
    "```\n",
    "\n",
    "Looking just at the first row we get `[ 0.34763842,  0.24879643,  0.12789202]`, you can confirm these are the 3 largest probabilities in `a`. You'll also notice `[3, 0, 5]` are the corresponding indices."
   ]
  },
  {
   "cell_type": "code",
   "execution_count": 15,
   "metadata": {
    "collapsed": true,
    "deletable": true,
    "editable": true
   },
   "outputs": [],
   "source": [
    "### Print out the top five softmax probabilities for the predictions on the German traffic sign images found on the web. \n",
    "### Feel free to use as many code cells as needed.\n",
    "\n"
   ]
  },
  {
   "cell_type": "markdown",
   "metadata": {
    "deletable": true,
    "editable": true
   },
   "source": [
    "---\n",
    "\n",
    "## Step 4: Visualize the Neural Network's State with Test Images\n",
    "\n",
    " This Section is not required to complete but acts as an additional excersise for understaning the output of a neural network's weights. While neural networks can be a great learning device they are often referred to as a black box. We can understand what the weights of a neural network look like better by plotting their feature maps. After successfully training your neural network you can see what it's feature maps look like by plotting the output of the network's weight layers in response to a test stimuli image. From these plotted feature maps, it's possible to see what characteristics of an image the network finds interesting. For a sign, maybe the inner network feature maps react with high activation to the sign's boundary outline or to the contrast in the sign's painted symbol.\n",
    "\n",
    " Provided for you below is the function code that allows you to get the visualization output of any tensorflow weight layer you want. The inputs to the function should be a stimuli image, one used during training or a new one you provided, and then the tensorflow variable name that represents the layer's state during the training process, for instance if you wanted to see what the [LeNet lab's](https://classroom.udacity.com/nanodegrees/nd013/parts/fbf77062-5703-404e-b60c-95b78b2f3f9e/modules/6df7ae49-c61c-4bb2-a23e-6527e69209ec/lessons/601ae704-1035-4287-8b11-e2c2716217ad/concepts/d4aca031-508f-4e0b-b493-e7b706120f81) feature maps looked like for it's second convolutional layer you could enter conv2 as the tf_activation variable.\n",
    "\n",
    "For an example of what feature map outputs look like, check out NVIDIA's results in their paper [End-to-End Deep Learning for Self-Driving Cars](https://devblogs.nvidia.com/parallelforall/deep-learning-self-driving-cars/) in the section Visualization of internal CNN State. NVIDIA was able to show that their network's inner weights had high activations to road boundary lines by comparing feature maps from an image with a clear path to one without. Try experimenting with a similar test to show that your trained network's weights are looking for interesting features, whether it's looking at differences in feature maps from images with or without a sign, or even what feature maps look like in a trained network vs a completely untrained one on the same sign image.\n",
    "\n",
    "<figure>\n",
    " <img src=\"visualize_cnn.png\" width=\"380\" alt=\"Combined Image\" />\n",
    " <figcaption>\n",
    " <p></p> \n",
    " <p style=\"text-align: center;\"> Your output should look something like this (above)</p> \n",
    " </figcaption>\n",
    "</figure>\n",
    " <p></p> \n"
   ]
  },
  {
   "cell_type": "code",
   "execution_count": 16,
   "metadata": {
    "collapsed": true,
    "deletable": true,
    "editable": true
   },
   "outputs": [],
   "source": [
    "### Visualize your network's feature maps here.\n",
    "### Feel free to use as many code cells as needed.\n",
    "\n",
    "# image_input: the test image being fed into the network to produce the feature maps\n",
    "# tf_activation: should be a tf variable name used during your training procedure that represents the calculated state of a specific weight layer\n",
    "# activation_min/max: can be used to view the activation contrast in more detail, by default matplot sets min and max to the actual min and max values of the output\n",
    "# plt_num: used to plot out multiple different weight feature map sets on the same block, just extend the plt number for each new feature map entry\n",
    "\n",
    "def outputFeatureMap(image_input, tf_activation, activation_min=-1, activation_max=-1 ,plt_num=1):\n",
    "    # Here make sure to preprocess your image_input in a way your network expects\n",
    "    # with size, normalization, ect if needed\n",
    "    # image_input =\n",
    "    # Note: x should be the same name as your network's tensorflow data placeholder variable\n",
    "    # If you get an error tf_activation is not defined it maybe having trouble accessing the variable from inside a function\n",
    "    activation = tf_activation.eval(session=sess,feed_dict={x : image_input})\n",
    "    featuremaps = activation.shape[3]\n",
    "    plt.figure(plt_num, figsize=(15,15))\n",
    "    for featuremap in range(featuremaps):\n",
    "        plt.subplot(6,8, featuremap+1) # sets the number of feature maps to show on each row and column\n",
    "        plt.title('FeatureMap ' + str(featuremap)) # displays the feature map number\n",
    "        if activation_min != -1 & activation_max != -1:\n",
    "            plt.imshow(activation[0,:,:, featuremap], interpolation=\"nearest\", vmin =activation_min, vmax=activation_max, cmap=\"gray\")\n",
    "        elif activation_max != -1:\n",
    "            plt.imshow(activation[0,:,:, featuremap], interpolation=\"nearest\", vmax=activation_max, cmap=\"gray\")\n",
    "        elif activation_min !=-1:\n",
    "            plt.imshow(activation[0,:,:, featuremap], interpolation=\"nearest\", vmin=activation_min, cmap=\"gray\")\n",
    "        else:\n",
    "            plt.imshow(activation[0,:,:, featuremap], interpolation=\"nearest\", cmap=\"gray\")"
   ]
  },
  {
   "cell_type": "markdown",
   "metadata": {
    "deletable": true,
    "editable": true
   },
   "source": [
    "### Question 9\n",
    "\n",
    "Discuss how you used the visual output of your trained network's feature maps to show that it had learned to look for interesting characteristics in traffic sign images\n"
   ]
  },
  {
   "cell_type": "markdown",
   "metadata": {
    "deletable": true,
    "editable": true
   },
   "source": [
    "**Answer:**"
   ]
  },
  {
   "cell_type": "markdown",
   "metadata": {
    "deletable": true,
    "editable": true
   },
   "source": [
    "> **Note**: Once you have completed all of the code implementations and successfully answered each question above, you may finalize your work by exporting the iPython Notebook as an HTML document. You can do this by using the menu above and navigating to  \\n\",\n",
    "    \"**File -> Download as -> HTML (.html)**. Include the finished document along with this notebook as your submission."
   ]
  },
  {
   "cell_type": "markdown",
   "metadata": {
    "deletable": true,
    "editable": true
   },
   "source": [
    "### Project Writeup\n",
    "\n",
    "Once you have completed the code implementation, document your results in a project writeup using this [template](https://github.com/udacity/CarND-Traffic-Sign-Classifier-Project/blob/master/writeup_template.md) as a guide. The writeup can be in a markdown or pdf file. "
   ]
  }
 ],
 "metadata": {
  "anaconda-cloud": {},
  "kernelspec": {
   "display_name": "Python 3",
   "language": "python",
   "name": "python3"
  },
  "language_info": {
   "codemirror_mode": {
    "name": "ipython",
    "version": 3
   },
   "file_extension": ".py",
   "mimetype": "text/x-python",
   "name": "python",
   "nbconvert_exporter": "python",
   "pygments_lexer": "ipython3",
   "version": "3.5.2"
  },
  "widgets": {
   "state": {},
   "version": "1.1.2"
  }
 },
 "nbformat": 4,
 "nbformat_minor": 1
}
